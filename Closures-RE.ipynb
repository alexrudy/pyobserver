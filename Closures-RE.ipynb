{
 "metadata": {
  "name": "",
  "signature": "sha256:9464215e4189b8335268d116391850b599ef460f3d76cb1d5051a7e20d38efe3"
 },
 "nbformat": 3,
 "nbformat_minor": 0,
 "worksheets": [
  {
   "cells": [
    {
     "cell_type": "code",
     "collapsed": false,
     "input": [
      "import re"
     ],
     "language": "python",
     "metadata": {},
     "outputs": [],
     "prompt_number": 1
    },
    {
     "cell_type": "code",
     "collapsed": false,
     "input": [
      "line = \" 05:37:00  06:21:35    open(min:sec) 0044:35          Closure(sec)       5\""
     ],
     "language": "python",
     "metadata": {},
     "outputs": [],
     "prompt_number": 2
    },
    {
     "cell_type": "code",
     "collapsed": false,
     "input": [
      "openings_re = re.compile(\n",
      "    r\"\"\"\n",
      "    ^[\\s]*(?P<Start>[\\d]{2}:[\\d]{2}:[\\d]{2}) # Start time\n",
      "    [\\s]*(?P<End>[\\d]{2}:[\\d]{2}:[\\d]{2})    # End time\n",
      "    [\\s]*open\\(min:sec\\)\\ (?P<Opening>[\\d]{2,4}:[\\d]{2}) # Opening duration\n",
      "    [\\s]*(?:Closure\\(sec\\)[\\s]*(?P<Closure>[\\d]+))? # Closure duration\n",
      "    \"\"\",\n",
      "    re.VERBOSE\n",
      ")"
     ],
     "language": "python",
     "metadata": {},
     "outputs": [],
     "prompt_number": 10
    },
    {
     "cell_type": "code",
     "collapsed": false,
     "input": [
      "openings_re.match(line).groups()"
     ],
     "language": "python",
     "metadata": {},
     "outputs": [
      {
       "metadata": {},
       "output_type": "pyout",
       "prompt_number": 11,
       "text": [
        "('05:37:00', '06:21:35', '0044:35', '5')"
       ]
      }
     ],
     "prompt_number": 11
    },
    {
     "cell_type": "code",
     "collapsed": false,
     "input": [
      "_starlist_re_raw = r\"\"\"\n",
      "    ^(?P<Name>.{1,15})[\\s]+ # Target name must be the first 15 characters.\n",
      "    (?P<RA>(?:[\\d]{1,2}[\\s][\\s\\d]?[\\d][\\s][\\s\\d]?[\\d](?:\\.[\\d]+)?)|(?:[\\d]+\\.[\\d]+))[\\s]+  # Right Ascension, HH MM SS.SS+\n",
      "    (?P<Dec>(?:[+-]?[\\d]{1,2}[\\s][\\s\\d]?[\\d][\\s][\\s\\d]?[\\d](?:\\.[\\d]+)?)|(?:[\\d]+\\.[\\d]+)) # Declination, (-)DD MM SS.SS+\n",
      "    (?:[\\s]+(?P<Equinox>(?:[\\d]{4}(?:\\.[\\d]+)?)|(?:APP)))?[\\s]* # Equinox.\n",
      "    (?P<Keywords>.+)?$ # Everything else must be a keyword.\n",
      "    \"\"\"\n",
      "    \n",
      "_starlist_re = re.compile(_starlist_re_raw, re.VERBOSE)"
     ],
     "language": "python",
     "metadata": {},
     "outputs": [],
     "prompt_number": 53
    },
    {
     "cell_type": "code",
     "collapsed": false,
     "input": [
      "starlist_line = \"eng315          13 22 39.339 +35 21 2.49 2000.0 vmag=10.01 b-v=0.56 lgs=1\"\n",
      "laser_line = \" lazer_zenith      0.00000  90.00000\""
     ],
     "language": "python",
     "metadata": {},
     "outputs": [],
     "prompt_number": 54
    },
    {
     "cell_type": "code",
     "collapsed": false,
     "input": [
      "m = _starlist_re.match(starlist_line)\n",
      "m.groupdict()"
     ],
     "language": "python",
     "metadata": {},
     "outputs": [
      {
       "metadata": {},
       "output_type": "pyout",
       "prompt_number": 55,
       "text": [
        "{'Dec': '+35 21 2.49',\n",
        " 'Equinox': '2000.0',\n",
        " 'Keywords': 'vmag=10.01 b-v=0.56 lgs=1',\n",
        " 'Name': 'eng315         ',\n",
        " 'RA': '13 22 39.339'}"
       ]
      }
     ],
     "prompt_number": 55
    },
    {
     "cell_type": "code",
     "collapsed": false,
     "input": [
      "m = _starlist_re.match(laser_line)\n",
      "m.groupdict()"
     ],
     "language": "python",
     "metadata": {},
     "outputs": [
      {
       "metadata": {},
       "output_type": "pyout",
       "prompt_number": 56,
       "text": [
        "{'Dec': '90.00000',\n",
        " 'Equinox': None,\n",
        " 'Keywords': None,\n",
        " 'Name': ' lazer_zenith  ',\n",
        " 'RA': '0.00000'}"
       ]
      }
     ],
     "prompt_number": 56
    },
    {
     "cell_type": "code",
     "collapsed": false,
     "input": [
      "_summary_re = re.compile(r\"\"\"\n",
      "    ^[\\s]*(?P<ordinal>[\\w]+)[\\s]+(?P<objects>[\\d]+)[\\s]+objects\\:[\\s]+ # Number of objects\n",
      "    # Only one of the two following options will appear in a closure line.\n",
      "    (?:total\\ time\\ of\\ closures:[\\s]+(?P<time>[\\d]+(?:\\.[\\d]+)?))| # Closure time\n",
      "    (?:total\\ number\\ of\\ closures:[\\s]+(?P<number>[\\d]+)) # Number of closures\n",
      "    \n",
      "    [\\s]*$ # End the line.\n",
      "    \"\"\", re.VERBOSE)"
     ],
     "language": "python",
     "metadata": {},
     "outputs": [],
     "prompt_number": 64
    },
    {
     "cell_type": "code",
     "collapsed": false,
     "input": [
      "summary_line = 'First 21 objects: total time of closures:         1091'"
     ],
     "language": "python",
     "metadata": {},
     "outputs": [],
     "prompt_number": 65
    },
    {
     "cell_type": "code",
     "collapsed": false,
     "input": [
      "m = _summary_re.match(summary_line)\n",
      "m.groupdict()"
     ],
     "language": "python",
     "metadata": {},
     "outputs": [
      {
       "metadata": {},
       "output_type": "pyout",
       "prompt_number": 66,
       "text": [
        "{'number': None, 'objects': '21', 'ordinal': 'First', 'time': '1091'}"
       ]
      }
     ],
     "prompt_number": 66
    },
    {
     "cell_type": "code",
     "collapsed": false,
     "input": [],
     "language": "python",
     "metadata": {},
     "outputs": []
    }
   ],
   "metadata": {}
  }
 ]
}